{
 "cells": [
  {
   "cell_type": "markdown",
   "metadata": {},
   "source": [
    "## Self Normalizing Networks (SNN) w/ Scaled Exponential Linear Units (SELU)"
   ]
  },
  {
   "cell_type": "markdown",
   "metadata": {},
   "source": [
    "    1. Gradient issues\n",
    "    2. Normalization/Standardization\n",
    "    3. Weight Normalization\n",
    "    4. Batch Normalization\n",
    "    5. Layer Normalization\n",
    "    6. Self Normalizing Networks (SNN)\n",
    "    7. Scaled Exponential Linear Units (SELU)\n",
    "    8. Implementation\n",
    "    9. Additional Resources"
   ]
  },
  {
   "cell_type": "code",
   "execution_count": 1,
   "metadata": {
    "collapsed": true
   },
   "outputs": [],
   "source": [
    "import os\n",
    "import sys\n",
    "import random\n",
    "import time\n",
    "import math\n",
    "import numpy as np\n",
    "import matplotlib.pyplot as plt\n",
    "import pylab as pl\n",
    "\n",
    "from pycrayon import (\n",
    "    CrayonClient,\n",
    ")\n",
    "\n",
    "from IPython import (\n",
    "    display,\n",
    ")\n",
    "\n",
    "from IPython.display import (\n",
    "    Image,\n",
    "    clear_output,\n",
    ")\n",
    "\n",
    "# get matplotlib configuration\n",
    "%matplotlib inline\n",
    "%run plot_conf.py"
   ]
  },
  {
   "cell_type": "code",
   "execution_count": 2,
   "metadata": {
    "collapsed": true
   },
   "outputs": [],
   "source": [
    "import torch\n",
    "import torch.utils.data\n",
    "import torch.nn as nn\n",
    "import torch.nn.functional as F\n",
    "import torch.optim as optim\n",
    "\n",
    "from torch.autograd import (\n",
    "    Variable,\n",
    ")\n",
    "\n",
    "from torch.nn import (\n",
    "    init,\n",
    ")\n",
    "\n",
    "from torchvision import (\n",
    "    datasets, \n",
    "    transforms,\n",
    "    models,\n",
    "    utils,\n",
    ")"
   ]
  },
  {
   "cell_type": "code",
   "execution_count": null,
   "metadata": {
    "collapsed": true
   },
   "outputs": [],
   "source": []
  },
  {
   "cell_type": "markdown",
   "metadata": {},
   "source": [
    "Adding MATERIALS for NLPWP (may include selu stuff with it)\n",
    "No GPU used b/c of book standards and can't access it one this Key..."
   ]
  },
  {
   "cell_type": "code",
   "execution_count": null,
   "metadata": {
    "collapsed": true
   },
   "outputs": [],
   "source": []
  },
  {
   "cell_type": "markdown",
   "metadata": {},
   "source": [
    "### 8. Implementation"
   ]
  },
  {
   "cell_type": "markdown",
   "metadata": {},
   "source": [
    "```bash\n",
    "Self-Normalizing Neural Networks\n",
    "Günter Klambauer, Thomas Unterthiner, Andreas Mayr, Sepp Hochreiter\n",
    "https://arxiv.org/abs/1706.02515\n",
    "```"
   ]
  },
  {
   "cell_type": "markdown",
   "metadata": {},
   "source": [
    "**Caution:** Not an official implementation. There going to be a lot of overfitting, etc. Just wanted to see how SELU works but MNIST isn't giving great insight ... I'll explore some more interesting tasks and use deeper models later."
   ]
  },
  {
   "cell_type": "markdown",
   "metadata": {},
   "source": [
    "#### Data"
   ]
  },
  {
   "cell_type": "code",
   "execution_count": 10,
   "metadata": {
    "collapsed": true
   },
   "outputs": [],
   "source": [
    "batch_size = 100"
   ]
  },
  {
   "cell_type": "code",
   "execution_count": 11,
   "metadata": {
    "collapsed": true
   },
   "outputs": [],
   "source": [
    "# Train data loaders\n",
    "train_loader = torch.utils.data.DataLoader(\n",
    "    datasets.MNIST('data/mnist', train=True, download=True,\n",
    "                   transform=transforms.Compose([\n",
    "                       transforms.ToTensor(),\n",
    "                       transforms.Normalize((0.1307,), (0.3081,))\n",
    "                   ])),\n",
    "    batch_size=batch_size, shuffle=True)\n",
    "\n",
    "# Test data loader\n",
    "test_loader = torch.utils.data.DataLoader(\n",
    "    datasets.MNIST('data/mnist', train=False, transform=transforms.Compose([\n",
    "                       transforms.ToTensor(),\n",
    "                       transforms.Normalize((0.1307,), (0.3081,))\n",
    "                   ])),\n",
    "    batch_size=batch_size, shuffle=True)"
   ]
  },
  {
   "cell_type": "code",
   "execution_count": 12,
   "metadata": {},
   "outputs": [
    {
     "data": {
      "image/png": "[encoded data removed]",
      "text/plain": [
       "<matplotlib.figure.Figure at 0x10d61c400>"
      ]
     },
     "metadata": {},
     "output_type": "display_data"
    }
   ],
   "source": [
    "# Visualize some samples\n",
    "for batch in test_loader:\n",
    "    samples = batch[0][:5]\n",
    "    y_true = batch[1]\n",
    "    plt.subplot(1, 5, 1)\n",
    "    for i, sample in enumerate(samples):\n",
    "        plt.subplot(1, 5, i+1)\n",
    "        plt.title('Number: %i'% y_true[i])\n",
    "        plt.imshow(sample.numpy().reshape((28,28)))\n",
    "    break"
   ]
  },
  {
   "cell_type": "markdown",
   "metadata": {},
   "source": [
    "#### Training functions"
   ]
  },
  {
   "cell_type": "code",
   "execution_count": 13,
   "metadata": {
    "collapsed": true
   },
   "outputs": [],
   "source": [
    "def process_batch(inputs, targets, model, criterion, optimizer, cuda, is_training):\n",
    "    \"\"\"\n",
    "    Process a minibatch for loss and accuracy.\n",
    "    \"\"\"\n",
    "    \n",
    "    if cuda:\n",
    "        inputs, target = inputs.cuda(), target.cuda()\n",
    "    \n",
    "    # Convert tensors to Variables (for autograd)\n",
    "    if is_training:\n",
    "        X_batch = Variable(inputs, requires_grad=False)\n",
    "    else:\n",
    "        X_batch = Variable(inputs, volatile=True, requires_grad=False)\n",
    "    y_batch = Variable(targets.long(), requires_grad=False)\n",
    "    \n",
    "    # Forward pass\n",
    "    activations, scores = model(X_batch) # logits\n",
    "\n",
    "    # Loss\n",
    "    loss = criterion(scores, y_batch)\n",
    "    \n",
    "    # Accuracy\n",
    "    score, predicted = torch.max(scores, 1)\n",
    "    accuracy = (y_batch.data == predicted.data).sum() / float(len(y_batch))\n",
    "    \n",
    "    if is_training:\n",
    "\n",
    "        # Use autograd to do backprop. This will compute the\n",
    "        # gradients w.r.t loss for all Variables that have\n",
    "        # requires_grad=True. So, our w1 and w2 will now have\n",
    "        # gradient components we can access.\n",
    "        optimizer.zero_grad()\n",
    "        loss.backward()\n",
    "        \n",
    "        # Clip the gradient norms\n",
    "        nn.utils.clip_grad_norm(model.parameters(), max_grad_norm)\n",
    "\n",
    "        # Update params\n",
    "        optimizer.step()\n",
    "\n",
    "    return loss, accuracy, activations"
   ]
  },
  {
   "cell_type": "code",
   "execution_count": 29,
   "metadata": {
    "collapsed": true
   },
   "outputs": [],
   "source": [
    "def train(exp, exp_name, model, criterion, optimizer, train_loader, test_loader, \n",
    "          num_epochs, batch_size, log_interval, learning_rate,\n",
    "          dropout_p, decay_rate, max_grad_norm, cuda):\n",
    "    \"\"\"\n",
    "    Training.\n",
    "    \"\"\"\n",
    "    \n",
    "    # Metrics\n",
    "    train_loss = []\n",
    "    train_acc = []\n",
    "    test_loss = []\n",
    "    test_acc = []\n",
    "\n",
    "    # Training\n",
    "    for num_train_epoch in range(num_epochs):\n",
    "\n",
    "        # Timer\n",
    "        start = time.time()\n",
    "\n",
    "        # Decay learning rate\n",
    "        learning_rate = learning_rate * (decay_rate ** (num_train_epoch // 1.0))\n",
    "        for param_group in optimizer.param_groups:\n",
    "            param_group['lr'] = learning_rate\n",
    "\n",
    "        # Metrics\n",
    "        train_batch_loss = 0.0\n",
    "        train_batch_accuracy = 0.0\n",
    "\n",
    "        for train_batch_num, (inputs, target) in enumerate(train_loader):\n",
    "           \n",
    "            if exp_name.split(\"_\")[-1] == \"mlp\":\n",
    "                # Flatten inputs to feed into MLP\n",
    "                inputs = inputs.view(len(inputs), -1)\n",
    "\n",
    "            # Get metrics\n",
    "            model.train()\n",
    "            loss, accuracy, activations = process_batch(inputs, target, model, criterion, optimizer, cuda, model.training)\n",
    "\n",
    "            # Add to batch scalars\n",
    "            train_batch_loss += loss.data[0] / float(len(inputs))\n",
    "            train_batch_accuracy += accuracy\n",
    "                        \n",
    "            # Collect activations\n",
    "            for activation_num, activation in enumerate(activations):\n",
    "                exp.add_histogram_value(\n",
    "                    \"z%i\"%(activation_num+1), hist=list(activation.data.view(-1, )), tobuild=True)\n",
    "            \n",
    "            # Record metrics\n",
    "            exp.add_scalar_value(\"train_loss\", value=loss.data[0] / float(len(inputs)))\n",
    "            exp.add_scalar_value(\"train_accuracy\", value=accuracy)\n",
    "            \n",
    "        # Add to global metrics\n",
    "        train_loss.append(train_batch_loss/float(train_batch_num+1))\n",
    "        train_acc.append(train_batch_accuracy/float(train_batch_num+1))\n",
    "\n",
    "        # Testing\n",
    "        model.eval()\n",
    "        for num_test_epoch in range(1):\n",
    "\n",
    "            # Metrics\n",
    "            test_batch_loss = 0.0\n",
    "            test_batch_accuracy = 0.0\n",
    "\n",
    "            for test_batch_num, (inputs, target) in enumerate(test_loader):\n",
    "                \n",
    "                if exp_name.split(\"_\")[-1] == \"mlp\":\n",
    "                    # Flatten inputs to feed into MLP\n",
    "                    inputs = inputs.view(len(inputs), -1)\n",
    "\n",
    "                # Get metrics\n",
    "                model.eval()\n",
    "                loss, accuracy, activations = \\\n",
    "                    process_batch(inputs, target, model, criterion, optimizer, cuda, model.training)\n",
    "\n",
    "                # Add to batch scalars\n",
    "                test_batch_loss += loss.data[0] / float(len(inputs))\n",
    "                test_batch_accuracy += accuracy\n",
    "                \n",
    "                # Record metrics\n",
    "                exp.add_scalar_value(\"test_loss\", value=loss.data[0] / float(len(inputs)))\n",
    "                exp.add_scalar_value(\"test_accuracy\", value=accuracy)\n",
    "\n",
    "            # Add to global metrics\n",
    "            test_loss.append(test_batch_loss/float(test_batch_num+1))\n",
    "            test_acc.append(test_batch_accuracy/float(test_batch_num+1))\n",
    "                \n",
    "\n",
    "            verbose_condition = \\\n",
    "                (num_train_epoch == 0) or (num_train_epoch % log_interval == 0) or (num_train_epoch == num_epochs-1)\n",
    "\n",
    "            # Verbose\n",
    "            if verbose_condition:\n",
    "\n",
    "                # Verbose\n",
    "                time_remain = (time.time() - start) * (num_epochs - (num_train_epoch+1))\n",
    "                minutes = time_remain // 60\n",
    "                seconds = time_remain - minutes*60\n",
    "                print(\"TIME REMAINING: %im %is\" % (minutes, seconds))\n",
    "                print(\"[EPOCH]: %i, [TRAIN LOSS]: %.6f, [TRAIN ACC]: %.3f, [TEST LOSS]: %.6f, [TEST ACC]: %.3f\" %\n",
    "                       (num_train_epoch, train_batch_loss/float(train_batch_num+1), \n",
    "                        train_batch_accuracy/float(train_batch_num+1), test_batch_loss/float(test_batch_num+1),\n",
    "                        test_batch_accuracy/float(test_batch_num+1)))\n",
    "    \n",
    "    return model"
   ]
  },
  {
   "cell_type": "markdown",
   "metadata": {},
   "source": [
    "#### Set up Crayon"
   ]
  },
  {
   "cell_type": "code",
   "execution_count": 15,
   "metadata": {
    "collapsed": true
   },
   "outputs": [],
   "source": [
    "# Connect to the server for Crayon (tensorboard)\n",
    "cc = CrayonClient(hostname=\"localhost\", port=8889)"
   ]
  },
  {
   "cell_type": "markdown",
   "metadata": {},
   "source": [
    "### MLP"
   ]
  },
  {
   "cell_type": "code",
   "execution_count": 16,
   "metadata": {
    "collapsed": true
   },
   "outputs": [],
   "source": [
    "# training params\n",
    "num_epochs = 3\n",
    "learning_rate = 1e-3\n",
    "dropout_p = 0.05\n",
    "log_interval = 1 # epochs\n",
    "num_hidden_units = 100\n",
    "num_classes = 10 # MNIST\n",
    "decay_rate = 0.9999\n",
    "max_grad_norm = 5.0\n",
    "\n",
    "# Use gpu\n",
    "cuda = True\n",
    "cuda = cuda and torch.cuda.is_available()\n",
    "\n",
    "# reproduceability\n",
    "seed = 1234\n",
    "torch.manual_seed(seed)\n",
    "if cuda:\n",
    "    torch.cuda.manual_seed(seed)"
   ]
  },
  {
   "cell_type": "markdown",
   "metadata": {},
   "source": [
    "#### ReLU model"
   ]
  },
  {
   "cell_type": "code",
   "execution_count": 17,
   "metadata": {
    "collapsed": true
   },
   "outputs": [],
   "source": [
    "# Create relu experiment\n",
    "exp_name = \"relu_mlp\"\n",
    "try:\n",
    "    cc.remove_experiment(exp_name)\n",
    "    exp = cc.create_experiment(exp_name)\n",
    "except:\n",
    "    exp = cc.create_experiment(exp_name)"
   ]
  },
  {
   "cell_type": "code",
   "execution_count": 18,
   "metadata": {
    "collapsed": true
   },
   "outputs": [],
   "source": [
    "class relu_mlp(nn.Module):\n",
    "    \"\"\"\n",
    "    Simple MLP with ReLU non-linearities.\n",
    "    \"\"\"\n",
    "    def __init__(self, num_hidden_units, num_classes):\n",
    "        \"\"\"\n",
    "        Initialization.\n",
    "        \"\"\"\n",
    "        super(relu_mlp, self).__init__()\n",
    "        self.fc1 = nn.Linear(784, num_hidden_units)\n",
    "        self.fc2 = nn.Linear(num_hidden_units, num_hidden_units)\n",
    "        self.fc3 = nn.Linear(num_hidden_units, num_classes)\n",
    "        \n",
    "        self.init_weights()\n",
    "        \n",
    "    def init_weights(self):\n",
    "        \"\"\"\n",
    "        Properly initialize weights.\n",
    "        \"\"\"\n",
    "        init.xavier_uniform(self.fc1.weight, gain=np.sqrt(2.0)) # gain for ReLU\n",
    "        init.xavier_uniform(self.fc2.weight, gain=np.sqrt(2.0)) # gain for ReLU\n",
    "        \n",
    "    def forward(self, x):\n",
    "        \"\"\"\n",
    "        Feed forward.\n",
    "        \"\"\"\n",
    "        z1 = F.relu(self.fc1(x))\n",
    "        z2 = F.relu(self.fc2(z1))\n",
    "        z3 = self.fc3(z2)\n",
    "        return [z1, z2, z3], z3"
   ]
  },
  {
   "cell_type": "code",
   "execution_count": 19,
   "metadata": {},
   "outputs": [
    {
     "name": "stdout",
     "output_type": "stream",
     "text": [
      "TIME REMAINING: 1m 35s\n",
      "[EPOCH]: 0, [TRAIN LOSS]: 0.002720, [TRAIN ACC]: 0.919, [TEST LOSS]: 0.001336, [TEST ACC]: 0.958\n",
      "TIME REMAINING: 0m 46s\n",
      "[EPOCH]: 1, [TRAIN LOSS]: 0.001132, [TRAIN ACC]: 0.966, [TEST LOSS]: 0.001081, [TEST ACC]: 0.967\n",
      "TIME REMAINING: 0m 0s\n",
      "[EPOCH]: 2, [TRAIN LOSS]: 0.000781, [TRAIN ACC]: 0.976, [TEST LOSS]: 0.000921, [TEST ACC]: 0.972\n"
     ]
    }
   ],
   "source": [
    "# Initialize model components\n",
    "model = relu_mlp(num_hidden_units, num_classes)\n",
    "if cuda:\n",
    "    model.cuda()\n",
    "optimizer = optim.Adam(model.parameters(), lr=learning_rate)\n",
    "criterion = torch.nn.CrossEntropyLoss()\n",
    "\n",
    "# Train the model\n",
    "model = train(exp, exp_name, model, criterion, optimizer, train_loader, test_loader, \n",
    "          num_epochs, batch_size, log_interval, learning_rate,\n",
    "          dropout_p, decay_rate, max_grad_norm, cuda)"
   ]
  },
  {
   "cell_type": "markdown",
   "metadata": {},
   "source": [
    "#### SELU model"
   ]
  },
  {
   "cell_type": "code",
   "execution_count": 20,
   "metadata": {
    "collapsed": true
   },
   "outputs": [],
   "source": [
    "# Create relu experiment\n",
    "exp_name = \"selu_mlp\"\n",
    "try:\n",
    "    cc.remove_experiment(exp_name)\n",
    "    exp = cc.create_experiment(exp_name)\n",
    "except:\n",
    "    exp = cc.create_experiment(exp_name)"
   ]
  },
  {
   "cell_type": "code",
   "execution_count": 21,
   "metadata": {
    "collapsed": true
   },
   "outputs": [],
   "source": [
    "def selu(x):\n",
    "    alpha = 1.6732632423543772848170429916717\n",
    "    scale = 1.0507009873554804934193349852946\n",
    "    return scale * F.elu(x, alpha)"
   ]
  },
  {
   "cell_type": "code",
   "execution_count": 22,
   "metadata": {
    "collapsed": true
   },
   "outputs": [],
   "source": [
    "class selu_mlp(nn.Module):\n",
    "    \"\"\"\n",
    "    Simple MLP with ReLU non-linearities.\n",
    "    \"\"\"\n",
    "    def __init__(self, num_hidden_units, num_classes):\n",
    "        \"\"\"\n",
    "        Initialization.\n",
    "        \"\"\"\n",
    "        super(selu_mlp, self).__init__()\n",
    "        self.fc1 = nn.Linear(784, num_hidden_units)\n",
    "        self.fc2 = nn.Linear(num_hidden_units, num_hidden_units)\n",
    "        self.fc3 = nn.Linear(num_hidden_units, num_classes)\n",
    "        \n",
    "        self.init_weights()\n",
    "\n",
    "    def init_weights(self):\n",
    "        \"\"\"\n",
    "        Properly initialize weights from a gaussian distribution w/ mean=0 and var=1/n\n",
    "        \"\"\"\n",
    "        # weights\n",
    "        self.fc1.weight.data.normal_(mean=0, std=np.sqrt(1/len(self.fc1.weight.data[0])))\n",
    "        self.fc2.weight.data.normal_(mean=0, std=np.sqrt(1/len(self.fc2.weight.data[0])))\n",
    "        self.fc3.weight.data.normal_(mean=0, std=np.sqrt(1/len(self.fc3.weight.data[0])))\n",
    "        \n",
    "        # biases\n",
    "        self.fc1.bias.data.normal_(mean=0, std=0.1)\n",
    "        self.fc2.bias.data.normal_(mean=0, std=0.1)\n",
    "        self.fc3.bias.data.normal_(mean=0, std=0.1)\n",
    "        \n",
    "    def forward(self, x):\n",
    "        \"\"\"\n",
    "        Feed forward.\n",
    "        \"\"\"\n",
    "        z1 = selu(self.fc1(x))\n",
    "        z2 = selu(self.fc2(z1))\n",
    "        z3 = self.fc3(z2)\n",
    "        return [z1, z2, z3], z3"
   ]
  },
  {
   "cell_type": "code",
   "execution_count": 23,
   "metadata": {},
   "outputs": [
    {
     "name": "stdout",
     "output_type": "stream",
     "text": [
      "TIME REMAINING: 1m 52s\n",
      "[EPOCH]: 0, [TRAIN LOSS]: 0.002625, [TRAIN ACC]: 0.920, [TEST LOSS]: 0.001453, [TEST ACC]: 0.957\n",
      "TIME REMAINING: 0m 55s\n",
      "[EPOCH]: 1, [TRAIN LOSS]: 0.001183, [TRAIN ACC]: 0.964, [TEST LOSS]: 0.001094, [TEST ACC]: 0.965\n",
      "TIME REMAINING: 0m 0s\n",
      "[EPOCH]: 2, [TRAIN LOSS]: 0.000826, [TRAIN ACC]: 0.975, [TEST LOSS]: 0.000930, [TEST ACC]: 0.970\n"
     ]
    }
   ],
   "source": [
    "# Initialize model components\n",
    "model = selu_mlp(num_hidden_units, num_classes)\n",
    "if cuda:\n",
    "    model.cuda()\n",
    "optimizer = optim.Adam(model.parameters(), lr=learning_rate)\n",
    "criterion = torch.nn.CrossEntropyLoss()\n",
    "\n",
    "# Train the model\n",
    "model = train(exp, exp_name, model, criterion, optimizer, train_loader, test_loader, \n",
    "          num_epochs, batch_size, log_interval, learning_rate,\n",
    "          dropout_p, decay_rate, max_grad_norm, cuda)"
   ]
  },
  {
   "cell_type": "markdown",
   "metadata": {},
   "source": [
    "<img src=\"figures/key_mlp.png\"></img>\n",
    "<img src=\"figures/activations_mlp.png\"></img>\n",
    "<img src=\"figures/train_acc_mlp.png\"></img>"
   ]
  },
  {
   "cell_type": "markdown",
   "metadata": {
    "collapsed": true
   },
   "source": [
    "### CNN"
   ]
  },
  {
   "cell_type": "code",
   "execution_count": 30,
   "metadata": {
    "collapsed": true
   },
   "outputs": [],
   "source": [
    "# training params\n",
    "num_epochs = 3\n",
    "learning_rate = 0.01\n",
    "dropout_p = 0.5\n",
    "log_interval = 1 # epochs\n",
    "num_hidden_units = 100\n",
    "num_classes = 10 # MNIST\n",
    "decay_rate = 0.9999\n",
    "max_grad_norm = 5.0\n",
    "\n",
    "# Use gpu\n",
    "cuda = True\n",
    "cuda = cuda and torch.cuda.is_available()\n",
    "\n",
    "# reproduceability\n",
    "seed = 1234\n",
    "torch.manual_seed(seed)\n",
    "if cuda:\n",
    "    torch.cuda.manual_seed(seed)"
   ]
  },
  {
   "cell_type": "markdown",
   "metadata": {},
   "source": [
    "#### ReLU CNN"
   ]
  },
  {
   "cell_type": "code",
   "execution_count": 31,
   "metadata": {
    "collapsed": true
   },
   "outputs": [],
   "source": [
    "# Create relu experiment\n",
    "exp_name = \"relu_cnn\"\n",
    "try:\n",
    "    cc.remove_experiment(exp_name)\n",
    "    exp = cc.create_experiment(exp_name)\n",
    "except:\n",
    "    exp = cc.create_experiment(exp_name)"
   ]
  },
  {
   "cell_type": "code",
   "execution_count": 32,
   "metadata": {
    "collapsed": true
   },
   "outputs": [],
   "source": [
    "# CNN model\n",
    "class relu_cnn(nn.Module):\n",
    "    \"\"\"\n",
    "    Simple CNN for MNIST classification.\n",
    "    \"\"\"\n",
    "    def __init__(self, dropout_p, num_hidden_units, num_classes):\n",
    "        \"\"\"\n",
    "        Initialization.\n",
    "        \"\"\"\n",
    "        super(relu_cnn, self).__init__()\n",
    "        self.conv1 = nn.Conv2d(1, 10, kernel_size=5)\n",
    "        self.conv2 = nn.Conv2d(10, 20, kernel_size=5)\n",
    "        self.dropout_conv2 = nn.Dropout2d(dropout_p)\n",
    "        self.fc1 = nn.Linear(320, num_hidden_units)\n",
    "        self.fc2 = nn.Linear(num_hidden_units, num_classes)\n",
    "        \n",
    "        self.init_weights()\n",
    "        \n",
    "    def init_weights(self):\n",
    "        \"\"\"\n",
    "        Properly initialize weights.\n",
    "        \"\"\"\n",
    "        init.xavier_uniform(self.conv1.weight, gain=np.sqrt(2.0)) # gain for ReLU\n",
    "        init.xavier_uniform(self.conv2.weight, gain=np.sqrt(2.0)) # gain for ReLU\n",
    "        init.xavier_uniform(self.fc1.weight, gain=np.sqrt(2.0)) # gain for ReLU\n",
    "\n",
    "    def forward(self, x):\n",
    "        \"\"\"\n",
    "        Feed Foward.\n",
    "        \"\"\"\n",
    "        z1 = F.relu(F.max_pool2d(self.conv1(x), 2))\n",
    "        z2 = F.relu(F.max_pool2d(self.dropout_conv2(self.conv2(z1)), 2))\n",
    "        z2 = z2.view(-1, 320) # flatten\n",
    "        z3 = F.relu(self.fc1(z2))\n",
    "        z4 = F.dropout(z3, training=self.training)\n",
    "        z5 = self.fc2(z4)\n",
    "        return [z1, z2, z3, z4, z5], z5"
   ]
  },
  {
   "cell_type": "code",
   "execution_count": 33,
   "metadata": {
    "collapsed": true
   },
   "outputs": [],
   "source": [
    "# Initialize model components\n",
    "model = relu_cnn(dropout_p, num_hidden_units, num_classes)\n",
    "if cuda:\n",
    "    model.cuda()\n",
    "optimizer = optim.Adam(model.parameters(), lr=learning_rate)\n",
    "criterion = torch.nn.CrossEntropyLoss()"
   ]
  },
  {
   "cell_type": "code",
   "execution_count": 34,
   "metadata": {},
   "outputs": [
    {
     "name": "stdout",
     "output_type": "stream",
     "text": [
      "TIME REMAINING: 7m 38s\n",
      "[EPOCH]: 0, [TRAIN LOSS]: 0.007336, [TRAIN ACC]: 0.758, [TEST LOSS]: 0.001445, [TEST ACC]: 0.955\n",
      "TIME REMAINING: 3m 31s\n",
      "[EPOCH]: 1, [TRAIN LOSS]: 0.004509, [TRAIN ACC]: 0.862, [TEST LOSS]: 0.001250, [TEST ACC]: 0.963\n",
      "TIME REMAINING: 0m 0s\n",
      "[EPOCH]: 2, [TRAIN LOSS]: 0.004265, [TRAIN ACC]: 0.873, [TEST LOSS]: 0.001448, [TEST ACC]: 0.959\n"
     ]
    }
   ],
   "source": [
    "model = train(exp, exp_name, model, criterion, optimizer, train_loader, test_loader, \n",
    "          num_epochs, batch_size, log_interval, learning_rate,\n",
    "          dropout_p, decay_rate, max_grad_norm, cuda)"
   ]
  },
  {
   "cell_type": "markdown",
   "metadata": {
    "collapsed": true
   },
   "source": [
    "#### SELU CNN"
   ]
  },
  {
   "cell_type": "code",
   "execution_count": 35,
   "metadata": {
    "collapsed": true
   },
   "outputs": [],
   "source": [
    "dropout_p = 0.0 # keep 0 until implemented alpha dropout"
   ]
  },
  {
   "cell_type": "code",
   "execution_count": 36,
   "metadata": {
    "collapsed": true
   },
   "outputs": [],
   "source": [
    "# Create relu experiment\n",
    "exp_name = \"selu_cnn\"\n",
    "try:\n",
    "    cc.remove_experiment(exp_name)\n",
    "    exp = cc.create_experiment(exp_name)\n",
    "except:\n",
    "    exp = cc.create_experiment(exp_name)"
   ]
  },
  {
   "cell_type": "code",
   "execution_count": 37,
   "metadata": {
    "collapsed": true
   },
   "outputs": [],
   "source": [
    "# CNN model\n",
    "class selu_cnn(nn.Module):\n",
    "    \"\"\"\n",
    "    Simple CNN for MNIST classification.\n",
    "    \"\"\"\n",
    "    def __init__(self, dropout_p, num_hidden_units, num_classes):\n",
    "        \"\"\"\n",
    "        Initialization.\n",
    "        \"\"\"\n",
    "        super(selu_cnn, self).__init__()\n",
    "        self.conv1 = nn.Conv2d(1, 10, kernel_size=5)\n",
    "        self.conv2 = nn.Conv2d(10, 20, kernel_size=5)\n",
    "        self.dropout_conv2 = nn.Dropout2d(dropout_p)\n",
    "        self.fc1 = nn.Linear(320, num_hidden_units)\n",
    "        self.fc2 = nn.Linear(num_hidden_units, num_classes)\n",
    "        \n",
    "        self.init_weights()\n",
    "        \n",
    "    def init_weights(self):\n",
    "        \"\"\"\n",
    "        Properly initialize weights from a gaussian distribution w/ mean=0 and var=1/n\n",
    "        \"\"\"\n",
    "        \n",
    "        def get_conv_fan_in_size(weight):\n",
    "            \"\"\"\n",
    "            Get the fan_in dimension for conv weights.\n",
    "            \"\"\"\n",
    "            size = weight.data.size()\n",
    "            return size[0]*size[1]*size[2]\n",
    "                    \n",
    "        # weights\n",
    "        self.conv1.weight.data.normal_(mean=0, std=np.sqrt(1/get_conv_fan_in_size(self.conv1.weight)))\n",
    "        self.conv2.weight.data.normal_(mean=0, std=np.sqrt(1/get_conv_fan_in_size(self.conv2.weight)))\n",
    "        self.fc1.weight.data.normal_(mean=0, std=np.sqrt(1/len(self.fc1.weight.data[0])))\n",
    "        \n",
    "        # biases\n",
    "        self.conv1.bias.data.normal_(mean=0, std=0.1)\n",
    "        self.conv2.bias.data.normal_(mean=0, std=0.1)\n",
    "        self.fc1.bias.data.normal_(mean=0, std=0.1)\n",
    "\n",
    "    def forward(self, x):\n",
    "        \"\"\"\n",
    "        Feed Foward.\n",
    "        \"\"\"\n",
    "        z1 = selu(F.max_pool2d(self.conv1(x), 2))\n",
    "        z2 = selu(F.max_pool2d(self.dropout_conv2(self.conv2(z1)), 2))\n",
    "        z2 = z2.view(-1, 320) # flatten\n",
    "        z3 = selu(self.fc1(z2))\n",
    "        z4 = F.dropout(z3, training=self.training)\n",
    "        z5 = self.fc2(z4)\n",
    "        return [z1, z2, z3, z4, z5], z5"
   ]
  },
  {
   "cell_type": "code",
   "execution_count": 38,
   "metadata": {
    "collapsed": true
   },
   "outputs": [],
   "source": [
    "# Initialize model components\n",
    "model = selu_cnn(dropout_p, num_hidden_units, num_classes)\n",
    "if cuda:\n",
    "    model.cuda()\n",
    "optimizer = optim.Adam(model.parameters(), lr=learning_rate)\n",
    "criterion = torch.nn.CrossEntropyLoss()"
   ]
  },
  {
   "cell_type": "code",
   "execution_count": 39,
   "metadata": {},
   "outputs": [
    {
     "name": "stdout",
     "output_type": "stream",
     "text": [
      "TIME REMAINING: 10m 32s\n",
      "[EPOCH]: 0, [TRAIN LOSS]: 0.003927, [TRAIN ACC]: 0.909, [TEST LOSS]: 0.001677, [TEST ACC]: 0.971\n",
      "TIME REMAINING: 5m 17s\n",
      "[EPOCH]: 1, [TRAIN LOSS]: 0.003354, [TRAIN ACC]: 0.935, [TEST LOSS]: 0.001636, [TEST ACC]: 0.969\n",
      "TIME REMAINING: 0m 0s\n",
      "[EPOCH]: 2, [TRAIN LOSS]: 0.003347, [TRAIN ACC]: 0.939, [TEST LOSS]: 0.001347, [TEST ACC]: 0.971\n"
     ]
    }
   ],
   "source": [
    "model = train(exp, exp_name, model, criterion, optimizer, train_loader, test_loader, \n",
    "          num_epochs, batch_size, log_interval, learning_rate,\n",
    "          dropout_p, decay_rate, max_grad_norm, cuda)"
   ]
  },
  {
   "cell_type": "markdown",
   "metadata": {
    "collapsed": true
   },
   "source": [
    "<img src=\"figures/key_cnn.png\"></img>\n",
    "<img src=\"figures/activations_cnn.png\"></img>\n",
    "<img src=\"figures/train_acc_cnn.png\"></img>"
   ]
  },
  {
   "cell_type": "markdown",
   "metadata": {
    "collapsed": true
   },
   "source": [
    "#### Alpha dropout"
   ]
  },
  {
   "cell_type": "code",
   "execution_count": 69,
   "metadata": {
    "collapsed": true
   },
   "outputs": [],
   "source": [
    "dropout_p = 0.05"
   ]
  },
  {
   "cell_type": "code",
   "execution_count": 70,
   "metadata": {
    "collapsed": true
   },
   "outputs": [],
   "source": [
    "# Create relu experiment\n",
    "exp_name = \"selu_cnn_alpha_dropout\"\n",
    "try:\n",
    "    cc.remove_experiment(exp_name)\n",
    "    exp = cc.create_experiment(exp_name)\n",
    "except:\n",
    "    exp = cc.create_experiment(exp_name)"
   ]
  },
  {
   "cell_type": "markdown",
   "metadata": {},
   "source": [
    "$$ q = \\text{keep_prob, } d = W_{binomial} \\text{ for dropout mask} $$\n",
    "$$ E(x) = \\mu, Var(x) = v $$\n",
    "$$ $$ \n",
    "$$ \\text{w/ dropout with ReLU} (x \\rightarrow -\\infty, y=0) $$\n",
    "$$ \\text{After dropout our activations will not be } xd + 0(1-d) $$\n",
    "$$ \\text{We need to scale this so that we maintain mean=0 and var=1} $$\n",
    "$$ \\text{So, we need to scale the activations (after dropout) by } \\frac{1}{q} $$\n",
    "$$ $$\n",
    "$$ \\text{w/ dropout with SELU} (x \\rightarrow -\\infty, y=-\\lambda\\alpha = \\alpha^{'}) $$\n",
    "$$ \\text{applying dropout here is randomly setting activations to } \\alpha^{'} \\text{ value (instead of zero)} $$\n",
    "$$ \\text{After dropout our activations will not be } xd + \\alpha^{'}(1-d) $$\n",
    "$$ E(xd + \\alpha^{'}(1-d)) =  q\\mu + (1-q)alpha^{'} $$\n",
    "$$ Var(xd + \\alpha^{'}(1-d)) = q((1-q)(\\alpha^{'}-\\mu)^2+v) $$\n",
    "$$ \\text{We need scale these activations using scale factors a and b: } a(xd + \\alpha^{'}(1-d)) + b $$\n",
    "$$ E(a(xd + \\alpha^{'}(1-d)) + b) = \\mu $$\n",
    "$$ Var(a(xd + \\alpha^{'}(1-d)) + b) = v $$\n",
    "$$ \\text{ for } \\mu=0 \\text{ and } v=1: a = (q + {\\alpha^{'}}^{2} q(1-q))^{-0.5}, b = -(q+ {\\alpha^{'}}^{2} q(1-q))^{-0.5}((1-q)\\alpha^{'}) $$"
   ]
  },
  {
   "cell_type": "code",
   "execution_count": 71,
   "metadata": {
    "collapsed": true
   },
   "outputs": [],
   "source": [
    "class alpha_dropout(nn.Module):\n",
    "    \"\"\"\n",
    "    Alpha dropout to use during training\n",
    "    in order to scale the activations so\n",
    "    we maintain desired mean and var.\n",
    "    \"\"\"\n",
    "    # -1.7580993408473766 = - scale * alpha = limit of selu as x --> -inf\n",
    "    def __init__(self, dropout_p, alpha_prime=-1.7580993408473766, mean=0, var=1):\n",
    "        \"\"\"\n",
    "        Initialization\n",
    "        \"\"\"\n",
    "        super(alpha_dropout, self).__init__()\n",
    "        self.alpha_prime = alpha_prime\n",
    "        self.q = 1-dropout_p # keep_prob\n",
    "        self.a = 1.0 / np.sqrt( self.q + (self.alpha_prime**2) * self.q * (1-self.q) )\n",
    "        self.b = -1.0 * \\\n",
    "                ( 1.0 / np.sqrt( self.q + self.alpha_prime * self.q * (1-self.q))) * \\\n",
    "                ((1-self.q) * self.alpha_prime)\n",
    "        \n",
    "    def forward(self, x):\n",
    "        \"\"\"\n",
    "        Forward pass.\n",
    "        \"\"\"\n",
    "        if self.q == 1.0 or not self.training:\n",
    "            return x # no dropout\n",
    "        else:\n",
    "            dropout_mask = Variable(torch.Tensor(x.size()).fill_(self.q).bernoulli_())\n",
    "            activations = x.mul(dropout_mask) + self.alpha_prime * (1-dropout_mask)\n",
    "            activations.mul_(self.a).add_(self.b)\n",
    "            return activations"
   ]
  },
  {
   "cell_type": "code",
   "execution_count": 72,
   "metadata": {
    "collapsed": true
   },
   "outputs": [],
   "source": [
    "# CNN model\n",
    "class selu_cnn_alpha_dropout(nn.Module):\n",
    "    \"\"\"\n",
    "    Simple CNN for MNIST classification.\n",
    "    \"\"\"\n",
    "    def __init__(self, dropout_p, num_hidden_units, num_classes):\n",
    "        \"\"\"\n",
    "        Initialization.\n",
    "        \"\"\"\n",
    "        super(selu_cnn_alpha_dropout, self).__init__()\n",
    "        self.conv1 = nn.Conv2d(1, 10, kernel_size=5)\n",
    "        self.conv2 = nn.Conv2d(10, 20, kernel_size=5)\n",
    "        self.dropout_conv2 = alpha_dropout(0.05)\n",
    "        self.fc1 = nn.Linear(320, num_hidden_units)\n",
    "        self.fc2 = nn.Linear(num_hidden_units, num_classes)\n",
    "        \n",
    "        self.init_weights()\n",
    "        \n",
    "    def init_weights(self):\n",
    "        \"\"\"\n",
    "        Properly initialize weights from a gaussian distribution w/ mean=0 and var=1/n\n",
    "        \"\"\"\n",
    "        \n",
    "        def get_conv_fan_in_size(weight):\n",
    "            \"\"\"\n",
    "            Get the fan_in dimension for conv weights.\n",
    "            \"\"\"\n",
    "            size = weight.data.size()\n",
    "            return size[0]*size[1]*size[2]\n",
    "                    \n",
    "        # weights\n",
    "        self.conv1.weight.data.normal_(mean=0, std=np.sqrt(1/get_conv_fan_in_size(self.conv1.weight)))\n",
    "        self.conv2.weight.data.normal_(mean=0, std=np.sqrt(1/get_conv_fan_in_size(self.conv2.weight)))\n",
    "        self.fc1.weight.data.normal_(mean=0, std=np.sqrt(1/len(self.fc1.weight.data[0])))\n",
    "        \n",
    "        # biases\n",
    "        self.conv1.bias.data.normal_(mean=0, std=0.1)\n",
    "        self.conv2.bias.data.normal_(mean=0, std=0.1)\n",
    "        self.fc1.bias.data.normal_(mean=0, std=0.1)\n",
    "\n",
    "    def forward(self, x):\n",
    "        \"\"\"\n",
    "        Feed Foward.\n",
    "        \"\"\"\n",
    "        z1 = selu(F.max_pool2d(self.conv1(x), 2))\n",
    "        z2 = selu(F.max_pool2d(self.dropout_conv2(self.conv2(z1)), 2))\n",
    "        z2 = z2.view(-1, 320) # flatten\n",
    "        z3 = selu(self.fc1(z2))\n",
    "        z4 = F.dropout(z3, training=self.training)\n",
    "        z5 = self.fc2(z4)\n",
    "        return [z1, z2, z3, z4, z5], z5"
   ]
  },
  {
   "cell_type": "code",
   "execution_count": 73,
   "metadata": {
    "collapsed": true
   },
   "outputs": [],
   "source": [
    "# Initialize model components\n",
    "model = selu_cnn_alpha_dropout(dropout_p, num_hidden_units, num_classes)\n",
    "if cuda:\n",
    "    model.cuda()\n",
    "optimizer = optim.Adam(model.parameters(), lr=learning_rate)\n",
    "criterion = torch.nn.CrossEntropyLoss()"
   ]
  },
  {
   "cell_type": "code",
   "execution_count": 74,
   "metadata": {},
   "outputs": [
    {
     "name": "stdout",
     "output_type": "stream",
     "text": [
      "TIME REMAINING: 11m 28s\n",
      "[EPOCH]: 0, [TRAIN LOSS]: 0.004308, [TRAIN ACC]: 0.891, [TEST LOSS]: 0.001625, [TEST ACC]: 0.964\n",
      "TIME REMAINING: 5m 41s\n",
      "[EPOCH]: 1, [TRAIN LOSS]: 0.003909, [TRAIN ACC]: 0.916, [TEST LOSS]: 0.001855, [TEST ACC]: 0.973\n",
      "TIME REMAINING: 0m 0s\n",
      "[EPOCH]: 2, [TRAIN LOSS]: 0.003645, [TRAIN ACC]: 0.927, [TEST LOSS]: 0.001292, [TEST ACC]: 0.976\n"
     ]
    }
   ],
   "source": [
    "model = train(exp, exp_name, model, criterion, optimizer, train_loader, test_loader, \n",
    "          num_epochs, batch_size, log_interval, learning_rate,\n",
    "          dropout_p, decay_rate, max_grad_norm, cuda)"
   ]
  },
  {
   "cell_type": "markdown",
   "metadata": {},
   "source": [
    "<img src=\"figures/key_dropout.png\"></img>\n",
    "<img src=\"figures/activations_dropout.png\"></img>\n",
    "<img src=\"figures/activations_dropout_2.png\"></img>"
   ]
  },
  {
   "cell_type": "markdown",
   "metadata": {},
   "source": [
    "# ..."
   ]
  },
  {
   "cell_type": "markdown",
   "metadata": {},
   "source": [
    "### Additional Resources (not my code)"
   ]
  },
  {
   "cell_type": "markdown",
   "metadata": {},
   "source": [
    "If you want to know the scaling and alpha values for any arbitrary fixed point mean and variance, use this code by the authors. Credit: https://github.com/bioinf-jku/SNNs/blob/master/getSELUparameters.ipynb"
   ]
  },
  {
   "cell_type": "code",
   "execution_count": 77,
   "metadata": {
    "collapsed": true
   },
   "outputs": [],
   "source": [
    "import numpy as np\n",
    "from scipy.special import erf,erfc\n",
    "from sympy import Symbol, solve, nsolve"
   ]
  },
  {
   "cell_type": "code",
   "execution_count": 79,
   "metadata": {
    "collapsed": true
   },
   "outputs": [],
   "source": [
    "def getSeluParameters(fixedpointMean=0, fixedpointVar=1):\n",
    "    \"\"\" \n",
    "    Finding the parameters of the \n",
    "    SELU activation function. The \n",
    "    function returns alpha and lambda \n",
    "    for the desired fixed point. \n",
    "    \"\"\"\n",
    "    \n",
    "    import sympy\n",
    "    from sympy import Symbol, solve, nsolve\n",
    "\n",
    "    aa = Symbol('aa')\n",
    "    ll = Symbol('ll')\n",
    "    nu = fixedpointMean \n",
    "    tau = fixedpointVar \n",
    "\n",
    "    mean =  0.5*ll*(nu + np.exp(-nu**2/(2*tau))*np.sqrt(2/np.pi)*np.sqrt(tau) + \\\n",
    "                        nu*erf(nu/(np.sqrt(2*tau))) - aa*erfc(nu/(np.sqrt(2*tau))) + \\\n",
    "                        np.exp(nu+tau/2)*aa*erfc((nu+tau)/(np.sqrt(2*tau))))\n",
    "\n",
    "    var = 0.5*ll**2*(np.exp(-nu**2/(2*tau))*np.sqrt(2/np.pi*tau)*nu + (nu**2+tau)* \\\n",
    "                          (1+erf(nu/(np.sqrt(2*tau)))) + aa**2 *erfc(nu/(np.sqrt(2*tau))) \\\n",
    "                          - aa**2 * 2 *np.exp(nu+tau/2)*erfc((nu+tau)/(np.sqrt(2*tau)))+ \\\n",
    "                          aa**2*np.exp(2*(nu+tau))*erfc((nu+2*tau)/(np.sqrt(2*tau))) ) - mean**2\n",
    "\n",
    "    eq1 = mean - nu\n",
    "    eq2 = var - tau\n",
    "\n",
    "    res = nsolve( (eq2, eq1), (aa,ll), (1.67,1.05))\n",
    "    return float(res[0]),float(res[1])"
   ]
  },
  {
   "cell_type": "code",
   "execution_count": 82,
   "metadata": {},
   "outputs": [
    {
     "name": "stdout",
     "output_type": "stream",
     "text": [
      "(1.6732632423543774, 1.0507009873554802)\n",
      "(1.9622211815386628, 1.0498194717277889)\n"
     ]
    }
   ],
   "source": [
    "print (getSeluParameters(fixedpointMean=0, fixedpointVar=1))\n",
    "print (getSeluParameters(fixedpointMean=0.1, fixedpointVar=2.0))"
   ]
  },
  {
   "cell_type": "markdown",
   "metadata": {},
   "source": [
    "# ..."
   ]
  },
  {
   "cell_type": "code",
   "execution_count": null,
   "metadata": {
    "collapsed": true
   },
   "outputs": [],
   "source": []
  }
 ],
 "metadata": {
  "kernelspec": {
   "display_name": "Python 3",
   "language": "python",
   "name": "python3"
  },
  "language_info": {
   "codemirror_mode": {
    "name": "ipython",
    "version": 3
   },
   "file_extension": ".py",
   "mimetype": "text/x-python",
   "name": "python",
   "nbconvert_exporter": "python",
   "pygments_lexer": "ipython3",
   "version": "3.6.0"
  }
 },
 "nbformat": 4,
 "nbformat_minor": 2
}
